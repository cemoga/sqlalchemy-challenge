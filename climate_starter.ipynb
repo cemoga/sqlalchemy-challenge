{
 "cells": [
  {
   "cell_type": "code",
   "execution_count": 1,
   "metadata": {},
   "outputs": [],
   "source": [
    "%matplotlib inline\n",
    "from matplotlib import style\n",
    "style.use('fivethirtyeight')\n",
    "import matplotlib.pyplot as plt"
   ]
  },
  {
   "cell_type": "code",
   "execution_count": 2,
   "metadata": {},
   "outputs": [],
   "source": [
    "import pandas as pd"
   ]
  },
  {
   "cell_type": "code",
   "execution_count": 3,
   "metadata": {},
   "outputs": [],
   "source": [
    "import datetime as dt"
   ]
  },
  {
   "cell_type": "markdown",
   "metadata": {},
   "source": [
    "# Reflect Tables into SQLAlchemy ORM"
   ]
  },
  {
   "cell_type": "code",
   "execution_count": 4,
   "metadata": {},
   "outputs": [],
   "source": [
    "# Python SQL toolkit and Object Relational Mapper\n",
    "from sqlalchemy.ext.automap import automap_base\n",
    "from sqlalchemy.orm import Session\n",
    "from sqlalchemy import create_engine, inspect, func"
   ]
  },
  {
   "cell_type": "code",
   "execution_count": 5,
   "metadata": {},
   "outputs": [],
   "source": [
    "engine = create_engine(\"sqlite:///Resources/hawaii.sqlite\")"
   ]
  },
  {
   "cell_type": "code",
   "execution_count": 6,
   "metadata": {},
   "outputs": [],
   "source": [
    "# reflect an existing database into a new model\n",
    "Base = automap_base()\n",
    "# reflect the tables\n",
    "Base.prepare(engine, reflect=True)"
   ]
  },
  {
   "cell_type": "code",
   "execution_count": 7,
   "metadata": {},
   "outputs": [
    {
     "data": {
      "text/plain": [
       "['measurement', 'station']"
      ]
     },
     "execution_count": 7,
     "metadata": {},
     "output_type": "execute_result"
    }
   ],
   "source": [
    "# We can view all of the classes that automap found\n",
    "Base.classes.keys()"
   ]
  },
  {
   "cell_type": "code",
   "execution_count": 8,
   "metadata": {},
   "outputs": [],
   "source": [
    "# Save references to each table\n",
    "Measurement = Base.classes.measurement\n",
    "Station = Base.classes.station"
   ]
  },
  {
   "cell_type": "code",
   "execution_count": 9,
   "metadata": {},
   "outputs": [],
   "source": [
    "# Create our session (link) from Python to the DB\n",
    "session = Session(engine)"
   ]
  },
  {
   "cell_type": "code",
   "execution_count": 10,
   "metadata": {},
   "outputs": [
    {
     "name": "stdout",
     "output_type": "stream",
     "text": [
      "id      \tINTEGER\n",
      "station      \tTEXT\n",
      "date      \tTEXT\n",
      "prcp      \tFLOAT\n",
      "tobs      \tFLOAT\n"
     ]
    }
   ],
   "source": [
    "# Print Fields in the Table of the Database\n",
    "inspector = inspect(engine)\n",
    "columns = inspector.get_columns('measurement')\n",
    "for c in columns:\n",
    "    print(f'{c[\"name\"]}      \\t{c[\"type\"]}')"
   ]
  },
  {
   "cell_type": "code",
   "execution_count": 11,
   "metadata": {},
   "outputs": [
    {
     "name": "stdout",
     "output_type": "stream",
     "text": [
      "id      \tINTEGER\n",
      "station      \tTEXT\n",
      "name      \tTEXT\n",
      "latitude      \tFLOAT\n",
      "longitude      \tFLOAT\n",
      "elevation      \tFLOAT\n"
     ]
    }
   ],
   "source": [
    "# Print Fields in the Table of the Database\n",
    "inspector = inspect(engine)\n",
    "columns = inspector.get_columns('station')\n",
    "for c in columns:\n",
    "    print(f'{c[\"name\"]}      \\t{c[\"type\"]}')"
   ]
  },
  {
   "cell_type": "markdown",
   "metadata": {},
   "source": [
    "# Exploratory Climate Analysis"
   ]
  },
  {
   "cell_type": "code",
   "execution_count": 12,
   "metadata": {},
   "outputs": [],
   "source": [
    "# Design a query to retrieve the last 12 months of precipitation data and plot the results\n",
    "\n",
    "# Calculate the date 1 year ago from the last data point in the database\n",
    "\n",
    "# Perform a query to retrieve the data and precipitation scores\n",
    "\n",
    "# Save the query results as a Pandas DataFrame and set the index to the date column\n",
    "\n",
    "# Sort the dataframe by date\n",
    "\n",
    "# Use Pandas Plotting with Matplotlib to plot the data\n"
   ]
  },
  {
   "cell_type": "code",
   "execution_count": 13,
   "metadata": {},
   "outputs": [
    {
     "data": {
      "image/png": "[encoded data removed]",
      "text/plain": [
       "<Figure size 1440x720 with 1 Axes>"
      ]
     },
     "metadata": {
      "needs_background": "light"
     },
     "output_type": "display_data"
    }
   ],
   "source": [
    "# Design a query to retrieve the last 12 months of precipitation data and plot the results\n",
    "\n",
    "\n",
    "precipitation = session.query(Measurement.date,Measurement.prcp).\\\n",
    "                    filter(func.strftime(\"%Y-%m-%d\", Measurement.date) >= '2016-08-23').\\\n",
    "                    order_by(Measurement.date).all()\n",
    "\n",
    "# Load data to a dataframe\n",
    "precipitation_df = pd.DataFrame(precipitation, columns=['Date', 'Precipitation'])\n",
    "# Sort dataframe by date\n",
    "precipitation_df = precipitation_df.sort_values(by='Date', ascending=True)\n",
    "#precipitation_df = precipitation_df.dropna()\n",
    "\n",
    "# For setting up the index\n",
    "# precipitation_df.set_index('Date', inplace=True)\n",
    "\n",
    "# Resize the plot\n",
    "plt.figure(figsize=(20,10));\n",
    "\n",
    "# Plot the precipitation\n",
    "plt.bar(precipitation_df[\"Date\"], precipitation_df[\"Precipitation\"], \n",
    "        align='center', width=2);\n",
    "\n",
    "# Define the reference font size\n",
    "ref_font_size = 20\n",
    "\n",
    "# Add labels and Title\n",
    "plt.xlabel('Date',fontweight=\"bold\", fontsize=ref_font_size+2);\n",
    "plt.ylabel('Precipitation  (in)',fontweight=\"bold\", fontsize=ref_font_size+2);\n",
    "plt.title('Precipitation by Date' ,fontweight=\"bold\", fontsize=ref_font_size+3);\n",
    "\n",
    "# Add Grids\n",
    "plt.grid(b=bool, which='major', axis='y', color='grey',  alpha=0.55);\n",
    "\n",
    "# Add ticks\n",
    "plt.xticks(\"\", rotation=90, fontweight=\"bold\", alpha=0.55);\n",
    "plt.yticks(rotation=0, fontweight=\"bold\", alpha=0.55, fontsize=ref_font_size);\n",
    "\n",
    "# Save Plot\n",
    "plt.savefig(\"Output/Fig 1. Barchart - Precipitation by Date\" +'.png',bbox_inches='tight');\n",
    "\n",
    "#Show the Plot\n",
    "plt.show();"
   ]
  },
  {
   "cell_type": "code",
   "execution_count": 14,
   "metadata": {},
   "outputs": [
    {
     "data": {
      "text/html": [
       "<div>\n",
       "<style scoped>\n",
       "    .dataframe tbody tr th:only-of-type {\n",
       "        vertical-align: middle;\n",
       "    }\n",
       "\n",
       "    .dataframe tbody tr th {\n",
       "        vertical-align: top;\n",
       "    }\n",
       "\n",
       "    .dataframe thead th {\n",
       "        text-align: right;\n",
       "    }\n",
       "</style>\n",
       "<table border=\"1\" class=\"dataframe\">\n",
       "  <thead>\n",
       "    <tr style=\"text-align: right;\">\n",
       "      <th></th>\n",
       "      <th>Precipitation</th>\n",
       "    </tr>\n",
       "  </thead>\n",
       "  <tbody>\n",
       "    <tr>\n",
       "      <td>count</td>\n",
       "      <td>2021.000000</td>\n",
       "    </tr>\n",
       "    <tr>\n",
       "      <td>mean</td>\n",
       "      <td>0.177279</td>\n",
       "    </tr>\n",
       "    <tr>\n",
       "      <td>std</td>\n",
       "      <td>0.461190</td>\n",
       "    </tr>\n",
       "    <tr>\n",
       "      <td>min</td>\n",
       "      <td>0.000000</td>\n",
       "    </tr>\n",
       "    <tr>\n",
       "      <td>25%</td>\n",
       "      <td>0.000000</td>\n",
       "    </tr>\n",
       "    <tr>\n",
       "      <td>50%</td>\n",
       "      <td>0.020000</td>\n",
       "    </tr>\n",
       "    <tr>\n",
       "      <td>75%</td>\n",
       "      <td>0.130000</td>\n",
       "    </tr>\n",
       "    <tr>\n",
       "      <td>max</td>\n",
       "      <td>6.700000</td>\n",
       "    </tr>\n",
       "  </tbody>\n",
       "</table>\n",
       "</div>"
      ],
      "text/plain": [
       "       Precipitation\n",
       "count    2021.000000\n",
       "mean        0.177279\n",
       "std         0.461190\n",
       "min         0.000000\n",
       "25%         0.000000\n",
       "50%         0.020000\n",
       "75%         0.130000\n",
       "max         6.700000"
      ]
     },
     "execution_count": 14,
     "metadata": {},
     "output_type": "execute_result"
    }
   ],
   "source": [
    "# Use Pandas to calcualte the summary statistics for the precipitation data\n",
    "# precipitation_df.set_index('Date', inplace=True)\n",
    "precipitation_df.describe()"
   ]
  },
  {
   "cell_type": "code",
   "execution_count": 15,
   "metadata": {},
   "outputs": [
    {
     "data": {
      "text/plain": [
       "[(9)]"
      ]
     },
     "execution_count": 15,
     "metadata": {},
     "output_type": "execute_result"
    }
   ],
   "source": [
    "# Design a query to show how many stations are available in this dataset?\n",
    "session.query(func.count(Station.id)).all()"
   ]
  },
  {
   "cell_type": "code",
   "execution_count": 16,
   "metadata": {},
   "outputs": [
    {
     "data": {
      "text/plain": [
       "[('USC00519281', 2772),\n",
       " ('USC00519397', 2724),\n",
       " ('USC00513117', 2709),\n",
       " ('USC00519523', 2669),\n",
       " ('USC00516128', 2612),\n",
       " ('USC00514830', 2202),\n",
       " ('USC00511918', 1979),\n",
       " ('USC00517948', 1372),\n",
       " ('USC00518838', 511)]"
      ]
     },
     "execution_count": 16,
     "metadata": {},
     "output_type": "execute_result"
    }
   ],
   "source": [
    "# What are the most active stations? (i.e. what stations have the most rows)?\n",
    "# List the stations and the counts in descending order.\n",
    "session.query(Station.station, func.count(Station.id)).\\\n",
    "    filter(Station.station == Measurement.station).\\\n",
    "    group_by(Measurement.station).\\\n",
    "    order_by(func.count(Station.station).desc()).all()"
   ]
  },
  {
   "cell_type": "code",
   "execution_count": 17,
   "metadata": {},
   "outputs": [
    {
     "data": {
      "text/plain": [
       "[('USC00519281', 54.0, 85.0, 71.66378066378067)]"
      ]
     },
     "execution_count": 17,
     "metadata": {},
     "output_type": "execute_result"
    }
   ],
   "source": [
    "# Using the station id from the previous query, calculate the lowest temperature recorded, \n",
    "# highest temperature recorded, and average temperature most active station?\n",
    "session.query(Measurement.station,  func.min(Measurement.tobs), \n",
    "              func.max(Measurement.tobs), func.avg(Measurement.tobs)).\\\n",
    "    filter(Measurement.station == \"USC00519281\").\\\n",
    "    group_by(Measurement.station).all()"
   ]
  },
  {
   "cell_type": "code",
   "execution_count": 18,
   "metadata": {},
   "outputs": [
    {
     "data": {
      "image/png": "[encoded data removed]",
      "text/plain": [
       "<Figure size 1440x720 with 1 Axes>"
      ]
     },
     "metadata": {
      "needs_background": "light"
     },
     "output_type": "display_data"
    }
   ],
   "source": [
    "# Choose the station with the highest number of temperature observations.\n",
    "# Query the last 12 months of temperature observation data for this station and plot the results as a histogram\n",
    "temperature = session.query(Measurement.date,  Measurement.tobs).\\\n",
    "                    filter(Measurement.station == \"USC00519281\").\\\n",
    "                    filter(func.strftime(\"%Y-%m-%d\", Measurement.date) >= '2016-08-23').all()\n",
    "\n",
    "# Temperature dataframe cleanning process\n",
    "temperature_df = pd.DataFrame(temperature, columns=['Date', 'Temperature'])\n",
    "temperature_df = temperature_df.sort_values(by='Date', ascending=True)\n",
    "temperature_df.set_index('Date', inplace=True)\n",
    "\n",
    "# Resize Plot\n",
    "plt.figure(figsize=[20,10]);\n",
    "\n",
    "# Define Histogram paramaters\n",
    "n, bins, patches = plt.hist(x=temperature_df[\"Temperature\"], bins=12, \n",
    "                           color='royalblue',alpha=0.9);\n",
    "# Labeling, tickers and grids\n",
    "plt.grid(axis='y', alpha=0.75);\n",
    "plt.xlabel('Temperature (F)',fontweight=\"bold\", alpha=0.8, fontsize=20);\n",
    "plt.ylabel('Frequency',fontweight=\"bold\", alpha=0.8, fontsize=20);\n",
    "plt.xticks(fontsize=15, fontweight=\"bold\", alpha=0.55);\n",
    "plt.yticks(fontsize=15, fontweight=\"bold\", alpha=0.55);\n",
    "plt.title('Temperature Frequency Histogram \\n for Station:\"USC00519281\"',\n",
    "          fontweight=\"bold\", alpha=0.9, fontsize=20);\n",
    "\n",
    "# Save Plot\n",
    "plt.savefig(\"Output/Fig 2. Histogram - Temperature Frequency for Station USC00519281\" +'.png',bbox_inches='tight');\n",
    "\n",
    "#Show the Plot\n",
    "plt.show();"
   ]
  },
  {
   "cell_type": "code",
   "execution_count": 19,
   "metadata": {},
   "outputs": [
    {
     "name": "stdout",
     "output_type": "stream",
     "text": [
      "[(62.0, 69.57142857142857, 74.0)]\n"
     ]
    }
   ],
   "source": [
    "# This function called `calc_temps` will accept start date and end date in the format '%Y-%m-%d' \n",
    "# and return the minimum, average, and maximum temperatures for that range of dates\n",
    "def calc_temps(start_date, end_date):\n",
    "    \"\"\"TMIN, TAVG, and TMAX for a list of dates.\n",
    "    \n",
    "    Args:\n",
    "        start_date (string): A date string in the format %Y-%m-%d\n",
    "        end_date (string): A date string in the format %Y-%m-%d\n",
    "        \n",
    "    Returns:\n",
    "        TMIN, TAVE, and TMAX\n",
    "    \"\"\"\n",
    "    \n",
    "    return session.query(func.min(Measurement.tobs), func.avg(Measurement.tobs), func.max(Measurement.tobs)).\\\n",
    "        filter(Measurement.date >= start_date).filter(Measurement.date <= end_date).all()\n",
    "\n",
    "# function usage example\n",
    "print(calc_temps('2012-02-28', '2012-03-05'))"
   ]
  },
  {
   "cell_type": "code",
   "execution_count": 20,
   "metadata": {},
   "outputs": [
    {
     "name": "stdout",
     "output_type": "stream",
     "text": [
      "65.0 73.41836734693878 82.0\n"
     ]
    }
   ],
   "source": [
    "# Use your previous function `calc_temps` to calculate the tmin, tavg, and tmax \n",
    "# for your trip using the previous year's data for those same dates.\n",
    "# Vacation Dates\n",
    "initial_vacation_date = \"2016-12-01\"\n",
    "final_vacation_date = \"2016-12-16\"\n",
    "\n",
    "# Previous Year Dates\n",
    "initial_prevyear_date = \"2015-12-01\"\n",
    "final_prevyear_date = \"2015-12-16\"\n",
    "\n",
    "# Max, min and average calculation\n",
    "min_vacation_temp = calc_temps(initial_prevyear_date, final_prevyear_date)[0][0]\n",
    "avg_vacation_temp = calc_temps(initial_prevyear_date, final_prevyear_date)[0][1]\n",
    "max_vacation_temp = calc_temps(initial_prevyear_date, final_prevyear_date)[0][2]\n",
    "\n",
    "print(min_vacation_temp, avg_vacation_temp, max_vacation_temp)"
   ]
  },
  {
   "cell_type": "markdown",
   "metadata": {},
   "source": [
    "## Temperature Analysis II"
   ]
  },
  {
   "cell_type": "code",
   "execution_count": 21,
   "metadata": {},
   "outputs": [
    {
     "data": {
      "image/png": "[encoded data removed]",
      "text/plain": [
       "<Figure size 216x720 with 1 Axes>"
      ]
     },
     "metadata": {
      "needs_background": "light"
     },
     "output_type": "display_data"
    }
   ],
   "source": [
    "# Plot the results from your previous query as a bar chart. \n",
    "# Use \"Trip Avg Temp\" as your Title\n",
    "# Use the average temperature for the y value\n",
    "# Use the peak-to-peak (tmax-tmin) value as the y error bar (yerr)\n",
    "\n",
    "error_prev_year = max_vacation_temp-min_vacation_temp\n",
    "\n",
    "# Resize Plot\n",
    "plt.figure(figsize=[3,10]);\n",
    "\n",
    "# Define Bar and Error paramaters\n",
    "plt.bar(1, avg_vacation_temp, yerr=error_prev_year, align='center', alpha=0.5, \n",
    "        ecolor='black', capsize=7)\n",
    "\n",
    "# Labeling, tickers and grids\n",
    "\n",
    "plt.ylabel('Temperature (F)',fontweight=\"bold\", alpha=0.8, fontsize=20);\n",
    "plt.xticks(fontsize=15, fontweight=\"bold\", alpha=0.55);\n",
    "plt.yticks(fontsize=15, fontweight=\"bold\", alpha=0.55);\n",
    "plt.title('Trip\\n Average Temperature',\n",
    "          fontweight=\"bold\", alpha=0.9, fontsize=20);\n",
    "plt.grid(b=None, which='major', axis='x')\n",
    "\n",
    "plt.tick_params(\n",
    "    axis='x',          # changes apply to the x-axis\n",
    "    which='both',      # both major and minor ticks are affected\n",
    "    bottom=False,      # ticks along the bottom edge are off\n",
    "    top=False,         # ticks along the top edge are off\n",
    "    labelbottom=False) # labels along the bottom edge are off\n",
    "\n",
    "# Save Plot\n",
    "plt.savefig(\"Output/Fig 3. Barchart - Trip Average Temperature\" +'.png',bbox_inches='tight');\n",
    "\n",
    "#Show the Plot\n",
    "plt.show();"
   ]
  },
  {
   "cell_type": "code",
   "execution_count": 22,
   "metadata": {},
   "outputs": [
    {
     "data": {
      "text/plain": [
       "[('USC00516128', 'MANOA LYON ARBO 785.2, HI US', 21.3331, -157.8025, 152.4),\n",
       " ('USC00513117', 'KANEOHE 838.1, HI US', 21.4234, -157.8015, 14.6),\n",
       " ('USC00519281', 'WAIHEE 837.5, HI US', 21.45167, -157.84888999999998, 32.9),\n",
       " ('USC00519397', 'WAIKIKI 717.2, HI US', 21.2716, -157.8168, 3.0),\n",
       " ('USC00514830',\n",
       "  'KUALOA RANCH HEADQUARTERS 886.9, HI US',\n",
       "  21.5213,\n",
       "  -157.8374,\n",
       "  7.0),\n",
       " ('USC00519523',\n",
       "  'WAIMANALO EXPERIMENTAL FARM, HI US',\n",
       "  21.33556,\n",
       "  -157.71139,\n",
       "  19.5),\n",
       " ('USC00517948', 'PEARL CITY, HI US', 21.3934, -157.9751, 11.9)]"
      ]
     },
     "execution_count": 22,
     "metadata": {},
     "output_type": "execute_result"
    }
   ],
   "source": [
    "# Calculate the total amount of rainfall per weather station for your trip dates using the previous year's matching dates.\n",
    "# Sort this in descending order by precipitation amount and list the station, name, latitude, longitude, and elevation\n",
    "session.query(Station.station,  Station.name, Station.latitude, Station.longitude, Station.elevation).\\\n",
    "   filter(Station.station == Measurement.station).\\\n",
    "       filter(Measurement.date >= initial_prevyear_date).filter(Measurement.date <= final_prevyear_date).\\\n",
    "           group_by(Measurement.station).\\\n",
    "               order_by(Measurement.prcp.desc()).all()\n"
   ]
  },
  {
   "cell_type": "markdown",
   "metadata": {},
   "source": [
    "## Optional Challenge Assignment"
   ]
  },
  {
   "cell_type": "code",
   "execution_count": 23,
   "metadata": {},
   "outputs": [
    {
     "data": {
      "text/plain": [
       "(62.0, 69.15384615384616, 77.0)"
      ]
     },
     "execution_count": 23,
     "metadata": {},
     "output_type": "execute_result"
    }
   ],
   "source": [
    "# Create a query that will calculate the daily normals \n",
    "# (i.e. the averages for tmin, tmax, and tavg for all historic data matching a specific month and day)\n",
    "\n",
    "def daily_normals(date):\n",
    "    \"\"\"Daily Normals.\n",
    "    \n",
    "    Args:\n",
    "        date (str): A date string in the format '%m-%d'\n",
    "        \n",
    "    Returns:\n",
    "        A list of tuples containing the daily normals, tmin, tavg, and tmax\n",
    "    \n",
    "    \"\"\"\n",
    "    \n",
    "    sel = [func.min(Measurement.tobs), func.avg(Measurement.tobs), func.max(Measurement.tobs)]\n",
    "    return session.query(*sel).filter(func.strftime(\"%m-%d\", Measurement.date) == date).all()\n",
    "    \n",
    "daily_normals(\"01-01\")[0]"
   ]
  },
  {
   "cell_type": "code",
   "execution_count": 24,
   "metadata": {},
   "outputs": [
    {
     "data": {
      "text/plain": [
       "[(65.0, 71.91666666666667, 78.0),\n",
       " (62.0, 71.32692307692308, 77.0),\n",
       " (67.0, 72.88679245283019, 79.0),\n",
       " (66.0, 72.17647058823529, 81.0),\n",
       " (64.0, 70.92156862745098, 78.0),\n",
       " (61.0, 69.3921568627451, 78.0),\n",
       " (58.0, 69.2, 79.0),\n",
       " (60.0, 70.27450980392157, 83.0),\n",
       " (64.0, 71.90196078431373, 80.0),\n",
       " (61.0, 71.24528301886792, 78.0),\n",
       " (64.0, 72.38775510204081, 78.0),\n",
       " (64.0, 70.88235294117646, 79.0),\n",
       " (65.0, 70.9423076923077, 80.0),\n",
       " (65.0, 71.18, 78.0),\n",
       " (62.0, 71.34, 79.0),\n",
       " (60.0, 69.62264150943396, 82.0)]"
      ]
     },
     "execution_count": 24,
     "metadata": {},
     "output_type": "execute_result"
    }
   ],
   "source": [
    "# calculate the daily normals for your trip\n",
    "# push each tuple of calculations into a list called `normals`\n",
    "\n",
    "from datetime import timedelta  \n",
    "\n",
    "# Vacation Dates\n",
    "initial_vacation_date = dt.date(2016,12,1)\n",
    "final_vacation_date = dt.date(2016,12,16) \n",
    "\n",
    "# Initialize variables for while loop\n",
    "date_while = initial_vacation_date \n",
    "vacation_dates = [date_while]\n",
    "\n",
    "# Create a list with all the dates within the vacation range\n",
    "while date_while < final_vacation_date:\n",
    "    date_while += timedelta(days=1)\n",
    "    vacation_dates.append(date_while)\n",
    "\n",
    "# Calculate the normals in the list of vacation dates using the  %m-%d strings\n",
    "normals = []\n",
    "dates_normal = []\n",
    "for date_for in vacation_dates:\n",
    "    date_no_year = date_for.strftime('%m') + \"-\" + date_for.strftime('%d')\n",
    "    normals.append(daily_normals(date_no_year)[0])\n",
    "    dates_normal.append(date_no_year)\n",
    "\n",
    "# Print the results\n",
    "normals"
   ]
  },
  {
   "cell_type": "code",
   "execution_count": 25,
   "metadata": {},
   "outputs": [
    {
     "data": {
      "text/html": [
       "<div>\n",
       "<style scoped>\n",
       "    .dataframe tbody tr th:only-of-type {\n",
       "        vertical-align: middle;\n",
       "    }\n",
       "\n",
       "    .dataframe tbody tr th {\n",
       "        vertical-align: top;\n",
       "    }\n",
       "\n",
       "    .dataframe thead th {\n",
       "        text-align: right;\n",
       "    }\n",
       "</style>\n",
       "<table border=\"1\" class=\"dataframe\">\n",
       "  <thead>\n",
       "    <tr style=\"text-align: right;\">\n",
       "      <th></th>\n",
       "      <th>T Min</th>\n",
       "      <th>T Avg</th>\n",
       "      <th>T Max</th>\n",
       "    </tr>\n",
       "    <tr>\n",
       "      <th>Vacation Date</th>\n",
       "      <th></th>\n",
       "      <th></th>\n",
       "      <th></th>\n",
       "    </tr>\n",
       "  </thead>\n",
       "  <tbody>\n",
       "    <tr>\n",
       "      <td>2016-12-01</td>\n",
       "      <td>65.0</td>\n",
       "      <td>71.916667</td>\n",
       "      <td>78.0</td>\n",
       "    </tr>\n",
       "    <tr>\n",
       "      <td>2016-12-02</td>\n",
       "      <td>62.0</td>\n",
       "      <td>71.326923</td>\n",
       "      <td>77.0</td>\n",
       "    </tr>\n",
       "    <tr>\n",
       "      <td>2016-12-03</td>\n",
       "      <td>67.0</td>\n",
       "      <td>72.886792</td>\n",
       "      <td>79.0</td>\n",
       "    </tr>\n",
       "    <tr>\n",
       "      <td>2016-12-04</td>\n",
       "      <td>66.0</td>\n",
       "      <td>72.176471</td>\n",
       "      <td>81.0</td>\n",
       "    </tr>\n",
       "    <tr>\n",
       "      <td>2016-12-05</td>\n",
       "      <td>64.0</td>\n",
       "      <td>70.921569</td>\n",
       "      <td>78.0</td>\n",
       "    </tr>\n",
       "    <tr>\n",
       "      <td>2016-12-06</td>\n",
       "      <td>61.0</td>\n",
       "      <td>69.392157</td>\n",
       "      <td>78.0</td>\n",
       "    </tr>\n",
       "    <tr>\n",
       "      <td>2016-12-07</td>\n",
       "      <td>58.0</td>\n",
       "      <td>69.200000</td>\n",
       "      <td>79.0</td>\n",
       "    </tr>\n",
       "    <tr>\n",
       "      <td>2016-12-08</td>\n",
       "      <td>60.0</td>\n",
       "      <td>70.274510</td>\n",
       "      <td>83.0</td>\n",
       "    </tr>\n",
       "    <tr>\n",
       "      <td>2016-12-09</td>\n",
       "      <td>64.0</td>\n",
       "      <td>71.901961</td>\n",
       "      <td>80.0</td>\n",
       "    </tr>\n",
       "    <tr>\n",
       "      <td>2016-12-10</td>\n",
       "      <td>61.0</td>\n",
       "      <td>71.245283</td>\n",
       "      <td>78.0</td>\n",
       "    </tr>\n",
       "    <tr>\n",
       "      <td>2016-12-11</td>\n",
       "      <td>64.0</td>\n",
       "      <td>72.387755</td>\n",
       "      <td>78.0</td>\n",
       "    </tr>\n",
       "    <tr>\n",
       "      <td>2016-12-12</td>\n",
       "      <td>64.0</td>\n",
       "      <td>70.882353</td>\n",
       "      <td>79.0</td>\n",
       "    </tr>\n",
       "    <tr>\n",
       "      <td>2016-12-13</td>\n",
       "      <td>65.0</td>\n",
       "      <td>70.942308</td>\n",
       "      <td>80.0</td>\n",
       "    </tr>\n",
       "    <tr>\n",
       "      <td>2016-12-14</td>\n",
       "      <td>65.0</td>\n",
       "      <td>71.180000</td>\n",
       "      <td>78.0</td>\n",
       "    </tr>\n",
       "    <tr>\n",
       "      <td>2016-12-15</td>\n",
       "      <td>62.0</td>\n",
       "      <td>71.340000</td>\n",
       "      <td>79.0</td>\n",
       "    </tr>\n",
       "    <tr>\n",
       "      <td>2016-12-16</td>\n",
       "      <td>60.0</td>\n",
       "      <td>69.622642</td>\n",
       "      <td>82.0</td>\n",
       "    </tr>\n",
       "  </tbody>\n",
       "</table>\n",
       "</div>"
      ],
      "text/plain": [
       "               T Min      T Avg  T Max\n",
       "Vacation Date                         \n",
       "2016-12-01      65.0  71.916667   78.0\n",
       "2016-12-02      62.0  71.326923   77.0\n",
       "2016-12-03      67.0  72.886792   79.0\n",
       "2016-12-04      66.0  72.176471   81.0\n",
       "2016-12-05      64.0  70.921569   78.0\n",
       "2016-12-06      61.0  69.392157   78.0\n",
       "2016-12-07      58.0  69.200000   79.0\n",
       "2016-12-08      60.0  70.274510   83.0\n",
       "2016-12-09      64.0  71.901961   80.0\n",
       "2016-12-10      61.0  71.245283   78.0\n",
       "2016-12-11      64.0  72.387755   78.0\n",
       "2016-12-12      64.0  70.882353   79.0\n",
       "2016-12-13      65.0  70.942308   80.0\n",
       "2016-12-14      65.0  71.180000   78.0\n",
       "2016-12-15      62.0  71.340000   79.0\n",
       "2016-12-16      60.0  69.622642   82.0"
      ]
     },
     "execution_count": 25,
     "metadata": {},
     "output_type": "execute_result"
    }
   ],
   "source": [
    "# Load the previous query results into a Pandas DataFrame and add the `trip_dates` range as the `date` index\n",
    "normals_df = pd.DataFrame(normals, index=vacation_dates, columns = ['T Min' , 'T Avg', 'T Max']) \n",
    "normals_df.index.name = \"Vacation Date\"\n",
    "normals_df"
   ]
  },
  {
   "cell_type": "code",
   "execution_count": 26,
   "metadata": {},
   "outputs": [
    {
     "data": {
      "image/png": "[encoded data removed]",
      "text/plain": [
       "<Figure size 864x720 with 1 Axes>"
      ]
     },
     "metadata": {
      "needs_background": "light"
     },
     "output_type": "display_data"
    }
   ],
   "source": [
    "# Plot the daily normals as an area plot with `stacked=False`\n",
    "\n",
    "# Plot\n",
    "normals_df.plot.area(stacked=False, figsize=(12, 10))\n",
    "\n",
    "# Legend\n",
    "plt.legend(('Min Temperature', 'Average Temperature', 'Max Temperature'),loc='lower center')\n",
    "\n",
    "# Labeling, tickers and grids\n",
    "plt.grid(axis='y', alpha=0.75);\n",
    "plt.xlabel('Vacation Dates',fontweight=\"bold\", alpha=0.8, fontsize=20);\n",
    "plt.ylabel('Temperature (F)',fontweight=\"bold\", alpha=0.8, fontsize=20);\n",
    "plt.xticks(fontsize=15, fontweight=\"bold\", alpha=0.55, rotation=90);\n",
    "plt.yticks(fontsize=15, fontweight=\"bold\", alpha=0.55);\n",
    "plt.title('Normal Temperatures for Dates',\n",
    "          fontweight=\"bold\", alpha=0.9, fontsize=20);\n",
    "plt.ylim(bottom=min(normals_df[\"T Min\"])-10)  \n",
    "# Save Plot\n",
    "plt.savefig(\"Output/Fig 4. Area Plot - Normal Temperatures for Vacation Dates\" +'.png',\n",
    "            bbox_inches='tight');\n",
    "\n",
    "#Show the Plot\n",
    "plt.show();\n"
   ]
  },
  {
   "cell_type": "markdown",
   "metadata": {},
   "source": [
    "## Temperature Analysis I"
   ]
  },
  {
   "cell_type": "markdown",
   "metadata": {},
   "source": [
    "### Temperature June"
   ]
  },
  {
   "cell_type": "code",
   "execution_count": 27,
   "metadata": {},
   "outputs": [
    {
     "data": {
      "text/html": [
       "<div>\n",
       "<style scoped>\n",
       "    .dataframe tbody tr th:only-of-type {\n",
       "        vertical-align: middle;\n",
       "    }\n",
       "\n",
       "    .dataframe tbody tr th {\n",
       "        vertical-align: top;\n",
       "    }\n",
       "\n",
       "    .dataframe thead th {\n",
       "        text-align: right;\n",
       "    }\n",
       "</style>\n",
       "<table border=\"1\" class=\"dataframe\">\n",
       "  <thead>\n",
       "    <tr style=\"text-align: right;\">\n",
       "      <th></th>\n",
       "      <th>Temperature</th>\n",
       "    </tr>\n",
       "  </thead>\n",
       "  <tbody>\n",
       "    <tr>\n",
       "      <td>count</td>\n",
       "      <td>1700.000000</td>\n",
       "    </tr>\n",
       "    <tr>\n",
       "      <td>mean</td>\n",
       "      <td>74.944118</td>\n",
       "    </tr>\n",
       "    <tr>\n",
       "      <td>std</td>\n",
       "      <td>3.257417</td>\n",
       "    </tr>\n",
       "    <tr>\n",
       "      <td>min</td>\n",
       "      <td>64.000000</td>\n",
       "    </tr>\n",
       "    <tr>\n",
       "      <td>25%</td>\n",
       "      <td>73.000000</td>\n",
       "    </tr>\n",
       "    <tr>\n",
       "      <td>50%</td>\n",
       "      <td>75.000000</td>\n",
       "    </tr>\n",
       "    <tr>\n",
       "      <td>75%</td>\n",
       "      <td>77.000000</td>\n",
       "    </tr>\n",
       "    <tr>\n",
       "      <td>max</td>\n",
       "      <td>85.000000</td>\n",
       "    </tr>\n",
       "  </tbody>\n",
       "</table>\n",
       "</div>"
      ],
      "text/plain": [
       "       Temperature\n",
       "count  1700.000000\n",
       "mean     74.944118\n",
       "std       3.257417\n",
       "min      64.000000\n",
       "25%      73.000000\n",
       "50%      75.000000\n",
       "75%      77.000000\n",
       "max      85.000000"
      ]
     },
     "execution_count": 27,
     "metadata": {},
     "output_type": "execute_result"
    }
   ],
   "source": [
    "temp_june = session.query(Measurement.date, Measurement.tobs).\\\n",
    "                    filter(func.strftime(\"%m\", Measurement.date) == '06').\\\n",
    "                    order_by(Measurement.date).all()\n",
    "\n",
    "# Load data to a dataframe\n",
    "temp_june_df = pd.DataFrame(temp_june, columns=['Date', 'Temperature'])\n",
    "# Sort dataframe by date\n",
    "temp_june_df = temp_june_df.sort_values(by='Date', ascending=True)\n",
    "# Set date as index\n",
    "temp_june_df.set_index('Date', inplace=True)\n",
    "temp_june_df.describe()"
   ]
  },
  {
   "cell_type": "markdown",
   "metadata": {},
   "source": [
    "### Temperature December"
   ]
  },
  {
   "cell_type": "code",
   "execution_count": 28,
   "metadata": {},
   "outputs": [
    {
     "data": {
      "text/html": [
       "<div>\n",
       "<style scoped>\n",
       "    .dataframe tbody tr th:only-of-type {\n",
       "        vertical-align: middle;\n",
       "    }\n",
       "\n",
       "    .dataframe tbody tr th {\n",
       "        vertical-align: top;\n",
       "    }\n",
       "\n",
       "    .dataframe thead th {\n",
       "        text-align: right;\n",
       "    }\n",
       "</style>\n",
       "<table border=\"1\" class=\"dataframe\">\n",
       "  <thead>\n",
       "    <tr style=\"text-align: right;\">\n",
       "      <th></th>\n",
       "      <th>Temperature</th>\n",
       "    </tr>\n",
       "  </thead>\n",
       "  <tbody>\n",
       "    <tr>\n",
       "      <td>count</td>\n",
       "      <td>1517.000000</td>\n",
       "    </tr>\n",
       "    <tr>\n",
       "      <td>mean</td>\n",
       "      <td>71.041529</td>\n",
       "    </tr>\n",
       "    <tr>\n",
       "      <td>std</td>\n",
       "      <td>3.745920</td>\n",
       "    </tr>\n",
       "    <tr>\n",
       "      <td>min</td>\n",
       "      <td>56.000000</td>\n",
       "    </tr>\n",
       "    <tr>\n",
       "      <td>25%</td>\n",
       "      <td>69.000000</td>\n",
       "    </tr>\n",
       "    <tr>\n",
       "      <td>50%</td>\n",
       "      <td>71.000000</td>\n",
       "    </tr>\n",
       "    <tr>\n",
       "      <td>75%</td>\n",
       "      <td>74.000000</td>\n",
       "    </tr>\n",
       "    <tr>\n",
       "      <td>max</td>\n",
       "      <td>83.000000</td>\n",
       "    </tr>\n",
       "  </tbody>\n",
       "</table>\n",
       "</div>"
      ],
      "text/plain": [
       "       Temperature\n",
       "count  1517.000000\n",
       "mean     71.041529\n",
       "std       3.745920\n",
       "min      56.000000\n",
       "25%      69.000000\n",
       "50%      71.000000\n",
       "75%      74.000000\n",
       "max      83.000000"
      ]
     },
     "execution_count": 28,
     "metadata": {},
     "output_type": "execute_result"
    }
   ],
   "source": [
    "temp_dec = session.query(Measurement.date, Measurement.tobs).\\\n",
    "                    filter(func.strftime(\"%m\", Measurement.date) == '12').\\\n",
    "                    order_by(Measurement.date).all()\n",
    "\n",
    "# Load data to a dataframe\n",
    "temp_dec_df = pd.DataFrame(temp_dec, columns=['Date', 'Temperature'])\n",
    "# Sort dataframe by date\n",
    "temp_dec_df = temp_dec_df.sort_values(by='Date', ascending=True)\n",
    "# Set date as index\n",
    "temp_dec_df.set_index('Date', inplace=True)\n",
    "temp_dec_df.describe()"
   ]
  },
  {
   "cell_type": "markdown",
   "metadata": {},
   "source": [
    "### T-test"
   ]
  },
  {
   "cell_type": "code",
   "execution_count": 29,
   "metadata": {},
   "outputs": [
    {
     "data": {
      "text/plain": [
       "Ttest_indResult(statistic=array([31.35503692]), pvalue=array([4.19352984e-187]))"
      ]
     },
     "execution_count": 29,
     "metadata": {},
     "output_type": "execute_result"
    }
   ],
   "source": [
    "from scipy import stats\n",
    "t_test_ind = stats.ttest_ind(temp_june_df, temp_dec_df, equal_var=False)\n",
    "t_test_ind"
   ]
  },
  {
   "cell_type": "code",
   "execution_count": 30,
   "metadata": {},
   "outputs": [
    {
     "name": "stdout",
     "output_type": "stream",
     "text": [
      "Reject the null hypothesis that the means are equal.          \n",
      "The difference in means is statistically significant\n"
     ]
    }
   ],
   "source": [
    "p = t_test_ind[1]\n",
    "alpha = 0.05\n",
    "\n",
    "# interpret via p-value\n",
    "if p > alpha:\n",
    "    print('Accept null hypothesis that the means are equal.\\\n",
    "        \\nThe difference in means is NOT statistically significant')\n",
    "else:\n",
    "    print('Reject the null hypothesis that the means are equal.\\\n",
    "          \\nThe difference in means is statistically significant')"
   ]
  },
  {
   "cell_type": "markdown",
   "metadata": {},
   "source": [
    "## Analysis\n",
    "- The used test is the independent test because the means of the months do not \n",
    "depend on each other. The temperature measurements are not necessaryly exactly in the same stations along the years.\n",
    "- Reject the null hypothesis that the means are equal.\n",
    "- The difference in means is statistically significant\n"
   ]
  }
 ],
 "metadata": {
  "file_extension": ".py",
  "kernelspec": {
   "display_name": "Python 3",
   "language": "python",
   "name": "python3"
  },
  "language_info": {
   "codemirror_mode": {
    "name": "ipython",
    "version": 3
   },
   "file_extension": ".py",
   "mimetype": "text/x-python",
   "name": "python",
   "nbconvert_exporter": "python",
   "pygments_lexer": "ipython3",
   "version": "3.7.4"
  },
  "mimetype": "text/x-python",
  "name": "python",
  "npconvert_exporter": "python",
  "pygments_lexer": "ipython3",
  "version": 3
 },
 "nbformat": 4,
 "nbformat_minor": 2
}
